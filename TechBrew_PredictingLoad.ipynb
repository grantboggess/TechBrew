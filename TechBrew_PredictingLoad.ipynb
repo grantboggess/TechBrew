{
 "cells": [
  {
   "cell_type": "code",
   "execution_count": 48,
   "metadata": {},
   "outputs": [
    {
     "name": "stdout",
     "output_type": "stream",
     "text": [
      "Looking in indexes: https://nexus-commons.apps.ocp4dev.av.ae.ge.com/repository/pypi-hosted/simple\n",
      "Looking in links: https://nexus-commons.apps.ocp4dev.av.ae.ge.com/repository/pypi-hosted/simple\n",
      "Requirement already satisfied: pandas in c:\\apps\\anaconda3\\v3_8_5_x64\\local\\lib\\site-packages (1.1.3)\n",
      "Requirement already satisfied: numpy>=1.15.4 in c:\\apps\\anaconda3\\v3_8_5_x64\\local\\lib\\site-packages (from pandas) (1.19.2)\n",
      "Requirement already satisfied: python-dateutil>=2.7.3 in c:\\apps\\anaconda3\\v3_8_5_x64\\local\\lib\\site-packages (from pandas) (2.8.1)\n",
      "Requirement already satisfied: pytz>=2017.2 in c:\\apps\\anaconda3\\v3_8_5_x64\\local\\lib\\site-packages (from pandas) (2020.1)\n",
      "Requirement already satisfied: six>=1.5 in c:\\apps\\anaconda3\\v3_8_5_x64\\local\\lib\\site-packages (from python-dateutil>=2.7.3->pandas) (1.15.0)\n",
      "Looking in indexes: https://nexus-commons.apps.ocp4dev.av.ae.ge.com/repository/pypi-hosted/simple\n",
      "Looking in links: https://nexus-commons.apps.ocp4dev.av.ae.ge.com/repository/pypi-hosted/simple\n",
      "Requirement already satisfied: numpy in c:\\apps\\anaconda3\\v3_8_5_x64\\local\\lib\\site-packages (1.19.2)\n",
      "Looking in indexes: https://nexus-commons.apps.ocp4dev.av.ae.ge.com/repository/pypi-hosted/simple\n",
      "Looking in links: https://nexus-commons.apps.ocp4dev.av.ae.ge.com/repository/pypi-hosted/simple\n",
      "Requirement already satisfied: sklearn in c:\\apps\\anaconda3\\v3_8_5_x64\\local\\lib\\site-packages (0.0)\n",
      "Requirement already satisfied: scikit-learn in c:\\apps\\anaconda3\\v3_8_5_x64\\local\\lib\\site-packages (from sklearn) (0.23.2)\n",
      "Requirement already satisfied: scipy>=0.19.1 in c:\\apps\\anaconda3\\v3_8_5_x64\\local\\lib\\site-packages (from scikit-learn->sklearn) (1.5.2)\n",
      "Requirement already satisfied: joblib>=0.11 in c:\\apps\\anaconda3\\v3_8_5_x64\\local\\lib\\site-packages (from scikit-learn->sklearn) (0.17.0)\n",
      "Requirement already satisfied: threadpoolctl>=2.0.0 in c:\\apps\\anaconda3\\v3_8_5_x64\\local\\lib\\site-packages (from scikit-learn->sklearn) (2.1.0)\n",
      "Requirement already satisfied: numpy>=1.13.3 in c:\\apps\\anaconda3\\v3_8_5_x64\\local\\lib\\site-packages (from scikit-learn->sklearn) (1.19.2)\n",
      "Looking in indexes: https://nexus-commons.apps.ocp4dev.av.ae.ge.com/repository/pypi-hosted/simple\n",
      "Looking in links: https://nexus-commons.apps.ocp4dev.av.ae.ge.com/repository/pypi-hosted/simple\n",
      "Requirement already satisfied: matplotlib in c:\\apps\\anaconda3\\v3_8_5_x64\\local\\lib\\site-packages (3.3.2)\n",
      "Requirement already satisfied: cycler>=0.10 in c:\\apps\\anaconda3\\v3_8_5_x64\\local\\lib\\site-packages (from matplotlib) (0.10.0)\n",
      "Requirement already satisfied: certifi>=2020.06.20 in c:\\apps\\anaconda3\\v3_8_5_x64\\local\\lib\\site-packages (from matplotlib) (2021.10.8)\n",
      "Requirement already satisfied: pillow>=6.2.0 in c:\\apps\\anaconda3\\v3_8_5_x64\\local\\lib\\site-packages (from matplotlib) (8.0.1)\n",
      "Requirement already satisfied: pyparsing!=2.0.4,!=2.1.2,!=2.1.6,>=2.0.3 in c:\\apps\\anaconda3\\v3_8_5_x64\\local\\lib\\site-packages (from matplotlib) (2.4.7)\n",
      "Requirement already satisfied: kiwisolver>=1.0.1 in c:\\apps\\anaconda3\\v3_8_5_x64\\local\\lib\\site-packages (from matplotlib) (1.3.0)\n",
      "Requirement already satisfied: python-dateutil>=2.1 in c:\\apps\\anaconda3\\v3_8_5_x64\\local\\lib\\site-packages (from matplotlib) (2.8.1)\n",
      "Requirement already satisfied: numpy>=1.15 in c:\\apps\\anaconda3\\v3_8_5_x64\\local\\lib\\site-packages (from matplotlib) (1.19.2)\n",
      "Requirement already satisfied: six in c:\\apps\\anaconda3\\v3_8_5_x64\\local\\lib\\site-packages (from cycler>=0.10->matplotlib) (1.15.0)\n",
      "Looking in indexes: https://nexus-commons.apps.ocp4dev.av.ae.ge.com/repository/pypi-hosted/simple\n",
      "Looking in links: https://nexus-commons.apps.ocp4dev.av.ae.ge.com/repository/pypi-hosted/simple\n",
      "Requirement already satisfied: keras in c:\\apps\\anaconda3\\v3_8_5_x64\\local\\lib\\site-packages (2.6.0)\n",
      "All Needed Packages Installed\n"
     ]
    }
   ],
   "source": [
    "!pip install pandas\n",
    "!pip install numpy\n",
    "!pip install sklearn\n",
    "!pip install matplotlib\n",
    "!pip install keras\n",
    "import pandas as pd\n",
    "import numpy as np\n",
    "from sklearn.ensemble import RandomForestRegressor\n",
    "from sklearn.model_selection import train_test_split\n",
    "import matplotlib.pyplot as plt\n",
    "from keras import Sequential\n",
    "print('All Needed Packages Installed')"
   ]
  },
  {
   "cell_type": "code",
   "execution_count": 8,
   "metadata": {},
   "outputs": [
    {
     "data": {
      "text/html": [
       "<div>\n",
       "<style scoped>\n",
       "    .dataframe tbody tr th:only-of-type {\n",
       "        vertical-align: middle;\n",
       "    }\n",
       "\n",
       "    .dataframe tbody tr th {\n",
       "        vertical-align: top;\n",
       "    }\n",
       "\n",
       "    .dataframe thead th {\n",
       "        text-align: right;\n",
       "    }\n",
       "</style>\n",
       "<table border=\"1\" class=\"dataframe\">\n",
       "  <thead>\n",
       "    <tr style=\"text-align: right;\">\n",
       "      <th></th>\n",
       "      <th>DTTM</th>\n",
       "      <th>Forecast</th>\n",
       "      <th>Actual</th>\n",
       "    </tr>\n",
       "  </thead>\n",
       "  <tbody>\n",
       "    <tr>\n",
       "      <th>0</th>\n",
       "      <td>2017-01-01 01:00:00</td>\n",
       "      <td>33932</td>\n",
       "      <td>33851.44</td>\n",
       "    </tr>\n",
       "    <tr>\n",
       "      <th>1</th>\n",
       "      <td>2017-01-01 02:00:00</td>\n",
       "      <td>33806</td>\n",
       "      <td>33072.33</td>\n",
       "    </tr>\n",
       "    <tr>\n",
       "      <th>2</th>\n",
       "      <td>2017-01-01 03:00:00</td>\n",
       "      <td>33645</td>\n",
       "      <td>32415.59</td>\n",
       "    </tr>\n",
       "    <tr>\n",
       "      <th>3</th>\n",
       "      <td>2017-01-01 04:00:00</td>\n",
       "      <td>33417</td>\n",
       "      <td>32088.82</td>\n",
       "    </tr>\n",
       "    <tr>\n",
       "      <th>4</th>\n",
       "      <td>2017-01-01 05:00:00</td>\n",
       "      <td>33527</td>\n",
       "      <td>32108.70</td>\n",
       "    </tr>\n",
       "  </tbody>\n",
       "</table>\n",
       "</div>"
      ],
      "text/plain": [
       "                 DTTM  Forecast    Actual\n",
       "0 2017-01-01 01:00:00     33932  33851.44\n",
       "1 2017-01-01 02:00:00     33806  33072.33\n",
       "2 2017-01-01 03:00:00     33645  32415.59\n",
       "3 2017-01-01 04:00:00     33417  32088.82\n",
       "4 2017-01-01 05:00:00     33527  32108.70"
      ]
     },
     "execution_count": 8,
     "metadata": {},
     "output_type": "execute_result"
    }
   ],
   "source": [
    "loadData = pd.read_excel('Documents/MISO_Central_Load.xlsx')\n",
    "loadData.head()\n"
   ]
  },
  {
   "cell_type": "code",
   "execution_count": 9,
   "metadata": {},
   "outputs": [
    {
     "data": {
      "text/html": [
       "<div>\n",
       "<style scoped>\n",
       "    .dataframe tbody tr th:only-of-type {\n",
       "        vertical-align: middle;\n",
       "    }\n",
       "\n",
       "    .dataframe tbody tr th {\n",
       "        vertical-align: top;\n",
       "    }\n",
       "\n",
       "    .dataframe thead th {\n",
       "        text-align: right;\n",
       "    }\n",
       "</style>\n",
       "<table border=\"1\" class=\"dataframe\">\n",
       "  <thead>\n",
       "    <tr style=\"text-align: right;\">\n",
       "      <th></th>\n",
       "      <th>Forecast</th>\n",
       "      <th>Actual</th>\n",
       "    </tr>\n",
       "  </thead>\n",
       "  <tbody>\n",
       "    <tr>\n",
       "      <th>count</th>\n",
       "      <td>26279.000000</td>\n",
       "      <td>26279.000000</td>\n",
       "    </tr>\n",
       "    <tr>\n",
       "      <th>mean</th>\n",
       "      <td>39968.864493</td>\n",
       "      <td>39591.571482</td>\n",
       "    </tr>\n",
       "    <tr>\n",
       "      <th>std</th>\n",
       "      <td>6488.516953</td>\n",
       "      <td>6523.880196</td>\n",
       "    </tr>\n",
       "    <tr>\n",
       "      <th>min</th>\n",
       "      <td>26867.000000</td>\n",
       "      <td>26475.450000</td>\n",
       "    </tr>\n",
       "    <tr>\n",
       "      <th>25%</th>\n",
       "      <td>35397.000000</td>\n",
       "      <td>34883.060000</td>\n",
       "    </tr>\n",
       "    <tr>\n",
       "      <th>50%</th>\n",
       "      <td>39113.000000</td>\n",
       "      <td>38789.620000</td>\n",
       "    </tr>\n",
       "    <tr>\n",
       "      <th>75%</th>\n",
       "      <td>43330.500000</td>\n",
       "      <td>43131.455000</td>\n",
       "    </tr>\n",
       "    <tr>\n",
       "      <th>max</th>\n",
       "      <td>91034.000000</td>\n",
       "      <td>65537.790000</td>\n",
       "    </tr>\n",
       "  </tbody>\n",
       "</table>\n",
       "</div>"
      ],
      "text/plain": [
       "           Forecast        Actual\n",
       "count  26279.000000  26279.000000\n",
       "mean   39968.864493  39591.571482\n",
       "std     6488.516953   6523.880196\n",
       "min    26867.000000  26475.450000\n",
       "25%    35397.000000  34883.060000\n",
       "50%    39113.000000  38789.620000\n",
       "75%    43330.500000  43131.455000\n",
       "max    91034.000000  65537.790000"
      ]
     },
     "execution_count": 9,
     "metadata": {},
     "output_type": "execute_result"
    }
   ],
   "source": [
    "loadData.describe()"
   ]
  },
  {
   "cell_type": "code",
   "execution_count": 12,
   "metadata": {},
   "outputs": [],
   "source": [
    "model = RandomForestRegressor(n_estimators = 100)"
   ]
  },
  {
   "cell_type": "code",
   "execution_count": 44,
   "metadata": {},
   "outputs": [
    {
     "data": {
      "text/html": [
       "<div>\n",
       "<style scoped>\n",
       "    .dataframe tbody tr th:only-of-type {\n",
       "        vertical-align: middle;\n",
       "    }\n",
       "\n",
       "    .dataframe tbody tr th {\n",
       "        vertical-align: top;\n",
       "    }\n",
       "\n",
       "    .dataframe thead th {\n",
       "        text-align: right;\n",
       "    }\n",
       "</style>\n",
       "<table border=\"1\" class=\"dataframe\">\n",
       "  <thead>\n",
       "    <tr style=\"text-align: right;\">\n",
       "      <th></th>\n",
       "      <th>hour</th>\n",
       "      <th>dayOfYear</th>\n",
       "      <th>dayOfWeek</th>\n",
       "    </tr>\n",
       "  </thead>\n",
       "  <tbody>\n",
       "    <tr>\n",
       "      <th>0</th>\n",
       "      <td>1</td>\n",
       "      <td>1</td>\n",
       "      <td>6</td>\n",
       "    </tr>\n",
       "    <tr>\n",
       "      <th>1</th>\n",
       "      <td>2</td>\n",
       "      <td>1</td>\n",
       "      <td>6</td>\n",
       "    </tr>\n",
       "    <tr>\n",
       "      <th>2</th>\n",
       "      <td>3</td>\n",
       "      <td>1</td>\n",
       "      <td>6</td>\n",
       "    </tr>\n",
       "    <tr>\n",
       "      <th>3</th>\n",
       "      <td>4</td>\n",
       "      <td>1</td>\n",
       "      <td>6</td>\n",
       "    </tr>\n",
       "    <tr>\n",
       "      <th>4</th>\n",
       "      <td>5</td>\n",
       "      <td>1</td>\n",
       "      <td>6</td>\n",
       "    </tr>\n",
       "  </tbody>\n",
       "</table>\n",
       "</div>"
      ],
      "text/plain": [
       "   hour  dayOfYear  dayOfWeek\n",
       "0     1          1          6\n",
       "1     2          1          6\n",
       "2     3          1          6\n",
       "3     4          1          6\n",
       "4     5          1          6"
      ]
     },
     "execution_count": 44,
     "metadata": {},
     "output_type": "execute_result"
    }
   ],
   "source": [
    "features = pd.DataFrame([])\n",
    "features['hour'] = loadData.DTTM.dt.hour\n",
    "features['dayOfYear'] = loadData.DTTM.dt.dayofyear\n",
    "features['dayOfWeek'] = loadData.DTTM.dt.dayofweek\n",
    "features.head()"
   ]
  },
  {
   "cell_type": "code",
   "execution_count": 15,
   "metadata": {},
   "outputs": [],
   "source": [
    "target = loadData.Actual"
   ]
  },
  {
   "cell_type": "code",
   "execution_count": 45,
   "metadata": {},
   "outputs": [],
   "source": [
    "X_train, X_test, Y_train, Y_test = train_test_split(features, target)"
   ]
  },
  {
   "cell_type": "code",
   "execution_count": 46,
   "metadata": {},
   "outputs": [
    {
     "name": "stdout",
     "output_type": "stream",
     "text": [
      "Average Absolute Hourly Miss: 3.5487064510938446 %\n"
     ]
    },
    {
     "data": {
      "text/plain": [
       "<matplotlib.collections.PathCollection at 0x22b2abe2790>"
      ]
     },
     "execution_count": 46,
     "metadata": {},
     "output_type": "execute_result"
    },
    {
     "data": {
      "image/png": "[encoded data removed]",
      "text/plain": [
       "<Figure size 432x288 with 1 Axes>"
      ]
     },
     "metadata": {
      "needs_background": "light"
     },
     "output_type": "display_data"
    }
   ],
   "source": [
    "trainedModel = model.fit(X_train, Y_train)\n",
    "prediction = trainedModel.predict(X_test)\n",
    "mae = 100*sum(abs(prediction - Y_test))/sum(Y_test)\n",
    "print(f'Average Absolute Hourly Miss: {mae} %')\n",
    "plt.scatter(prediction, Y_test)"
   ]
  }
 ],
 "metadata": {
  "kernelspec": {
   "display_name": "Python 3",
   "language": "python",
   "name": "python3"
  },
  "language_info": {
   "codemirror_mode": {
    "name": "ipython",
    "version": 3
   },
   "file_extension": ".py",
   "mimetype": "text/x-python",
   "name": "python",
   "nbconvert_exporter": "python",
   "pygments_lexer": "ipython3",
   "version": "3.8.5"
  }
 },
 "nbformat": 4,
 "nbformat_minor": 4
}
